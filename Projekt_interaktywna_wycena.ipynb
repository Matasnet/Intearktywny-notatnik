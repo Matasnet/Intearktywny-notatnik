{
  "nbformat": 4,
  "nbformat_minor": 0,
  "metadata": {
    "colab": {
      "provenance": [],
      "authorship_tag": "ABX9TyONTQ+rgu3oa25u8He2zN6S",
      "include_colab_link": true
    },
    "kernelspec": {
      "name": "python3",
      "display_name": "Python 3"
    },
    "language_info": {
      "name": "python"
    },
    "widgets": {
      "application/vnd.jupyter.widget-state+json": {
        "2e207a1ddd244428b27a0d8e39621aaf": {
          "model_module": "@jupyter-widgets/controls",
          "model_name": "TextModel",
          "model_module_version": "1.5.0",
          "state": {
            "_dom_classes": [],
            "_model_module": "@jupyter-widgets/controls",
            "_model_module_version": "1.5.0",
            "_model_name": "TextModel",
            "_view_count": null,
            "_view_module": "@jupyter-widgets/controls",
            "_view_module_version": "1.5.0",
            "_view_name": "TextView",
            "continuous_update": true,
            "description": "",
            "description_tooltip": null,
            "disabled": false,
            "layout": "IPY_MODEL_35139c93d3754fd8ad1f086e14bcf385",
            "placeholder": "Nazwa materiału",
            "style": "IPY_MODEL_39eb2b33dd1f403fadde903387d9a9ce",
            "value": "B"
          }
        },
        "35139c93d3754fd8ad1f086e14bcf385": {
          "model_module": "@jupyter-widgets/base",
          "model_name": "LayoutModel",
          "model_module_version": "1.2.0",
          "state": {
            "_model_module": "@jupyter-widgets/base",
            "_model_module_version": "1.2.0",
            "_model_name": "LayoutModel",
            "_view_count": null,
            "_view_module": "@jupyter-widgets/base",
            "_view_module_version": "1.2.0",
            "_view_name": "LayoutView",
            "align_content": null,
            "align_items": null,
            "align_self": null,
            "border": null,
            "bottom": null,
            "display": null,
            "flex": null,
            "flex_flow": null,
            "grid_area": null,
            "grid_auto_columns": null,
            "grid_auto_flow": null,
            "grid_auto_rows": null,
            "grid_column": null,
            "grid_gap": null,
            "grid_row": null,
            "grid_template_areas": null,
            "grid_template_columns": null,
            "grid_template_rows": null,
            "height": null,
            "justify_content": null,
            "justify_items": null,
            "left": null,
            "margin": null,
            "max_height": null,
            "max_width": null,
            "min_height": null,
            "min_width": null,
            "object_fit": null,
            "object_position": null,
            "order": null,
            "overflow": null,
            "overflow_x": null,
            "overflow_y": null,
            "padding": null,
            "right": null,
            "top": null,
            "visibility": null,
            "width": null
          }
        },
        "39eb2b33dd1f403fadde903387d9a9ce": {
          "model_module": "@jupyter-widgets/controls",
          "model_name": "DescriptionStyleModel",
          "model_module_version": "1.5.0",
          "state": {
            "_model_module": "@jupyter-widgets/controls",
            "_model_module_version": "1.5.0",
            "_model_name": "DescriptionStyleModel",
            "_view_count": null,
            "_view_module": "@jupyter-widgets/base",
            "_view_module_version": "1.2.0",
            "_view_name": "StyleView",
            "description_width": ""
          }
        },
        "a8f88e377351421781d690c529ff67d4": {
          "model_module": "@jupyter-widgets/controls",
          "model_name": "DropdownModel",
          "model_module_version": "1.5.0",
          "state": {
            "_dom_classes": [],
            "_model_module": "@jupyter-widgets/controls",
            "_model_module_version": "1.5.0",
            "_model_name": "DropdownModel",
            "_options_labels": [
              "kg",
              "m",
              "szt",
              "l",
              "m²",
              "m³",
              "op"
            ],
            "_view_count": null,
            "_view_module": "@jupyter-widgets/controls",
            "_view_module_version": "1.5.0",
            "_view_name": "DropdownView",
            "description": "Jednostka:",
            "description_tooltip": null,
            "disabled": false,
            "index": 0,
            "layout": "IPY_MODEL_eaee06fb360d4bba99a09234f7b7def6",
            "style": "IPY_MODEL_6bdf3d3a1af9465cb6fdf012018547ce"
          }
        },
        "eaee06fb360d4bba99a09234f7b7def6": {
          "model_module": "@jupyter-widgets/base",
          "model_name": "LayoutModel",
          "model_module_version": "1.2.0",
          "state": {
            "_model_module": "@jupyter-widgets/base",
            "_model_module_version": "1.2.0",
            "_model_name": "LayoutModel",
            "_view_count": null,
            "_view_module": "@jupyter-widgets/base",
            "_view_module_version": "1.2.0",
            "_view_name": "LayoutView",
            "align_content": null,
            "align_items": null,
            "align_self": null,
            "border": null,
            "bottom": null,
            "display": null,
            "flex": null,
            "flex_flow": null,
            "grid_area": null,
            "grid_auto_columns": null,
            "grid_auto_flow": null,
            "grid_auto_rows": null,
            "grid_column": null,
            "grid_gap": null,
            "grid_row": null,
            "grid_template_areas": null,
            "grid_template_columns": null,
            "grid_template_rows": null,
            "height": null,
            "justify_content": null,
            "justify_items": null,
            "left": null,
            "margin": null,
            "max_height": null,
            "max_width": null,
            "min_height": null,
            "min_width": null,
            "object_fit": null,
            "object_position": null,
            "order": null,
            "overflow": null,
            "overflow_x": null,
            "overflow_y": null,
            "padding": null,
            "right": null,
            "top": null,
            "visibility": null,
            "width": null
          }
        },
        "6bdf3d3a1af9465cb6fdf012018547ce": {
          "model_module": "@jupyter-widgets/controls",
          "model_name": "DescriptionStyleModel",
          "model_module_version": "1.5.0",
          "state": {
            "_model_module": "@jupyter-widgets/controls",
            "_model_module_version": "1.5.0",
            "_model_name": "DescriptionStyleModel",
            "_view_count": null,
            "_view_module": "@jupyter-widgets/base",
            "_view_module_version": "1.2.0",
            "_view_name": "StyleView",
            "description_width": ""
          }
        },
        "a4b604d5619d40e1bab583eb8cc87a70": {
          "model_module": "@jupyter-widgets/controls",
          "model_name": "IntTextModel",
          "model_module_version": "1.5.0",
          "state": {
            "_dom_classes": [],
            "_model_module": "@jupyter-widgets/controls",
            "_model_module_version": "1.5.0",
            "_model_name": "IntTextModel",
            "_view_count": null,
            "_view_module": "@jupyter-widgets/controls",
            "_view_module_version": "1.5.0",
            "_view_name": "IntTextView",
            "continuous_update": false,
            "description": "Ilość:",
            "description_tooltip": null,
            "disabled": false,
            "layout": "IPY_MODEL_10e478e9987f4c4b8f0d23d0af832cee",
            "step": 1,
            "style": "IPY_MODEL_4f2137e9aae44a86b134c27dad8ae883",
            "value": 1111
          }
        },
        "10e478e9987f4c4b8f0d23d0af832cee": {
          "model_module": "@jupyter-widgets/base",
          "model_name": "LayoutModel",
          "model_module_version": "1.2.0",
          "state": {
            "_model_module": "@jupyter-widgets/base",
            "_model_module_version": "1.2.0",
            "_model_name": "LayoutModel",
            "_view_count": null,
            "_view_module": "@jupyter-widgets/base",
            "_view_module_version": "1.2.0",
            "_view_name": "LayoutView",
            "align_content": null,
            "align_items": null,
            "align_self": null,
            "border": null,
            "bottom": null,
            "display": null,
            "flex": null,
            "flex_flow": null,
            "grid_area": null,
            "grid_auto_columns": null,
            "grid_auto_flow": null,
            "grid_auto_rows": null,
            "grid_column": null,
            "grid_gap": null,
            "grid_row": null,
            "grid_template_areas": null,
            "grid_template_columns": null,
            "grid_template_rows": null,
            "height": null,
            "justify_content": null,
            "justify_items": null,
            "left": null,
            "margin": null,
            "max_height": null,
            "max_width": null,
            "min_height": null,
            "min_width": null,
            "object_fit": null,
            "object_position": null,
            "order": null,
            "overflow": null,
            "overflow_x": null,
            "overflow_y": null,
            "padding": null,
            "right": null,
            "top": null,
            "visibility": null,
            "width": null
          }
        },
        "4f2137e9aae44a86b134c27dad8ae883": {
          "model_module": "@jupyter-widgets/controls",
          "model_name": "DescriptionStyleModel",
          "model_module_version": "1.5.0",
          "state": {
            "_model_module": "@jupyter-widgets/controls",
            "_model_module_version": "1.5.0",
            "_model_name": "DescriptionStyleModel",
            "_view_count": null,
            "_view_module": "@jupyter-widgets/base",
            "_view_module_version": "1.2.0",
            "_view_name": "StyleView",
            "description_width": ""
          }
        },
        "707fe7ae2b51447aa86eee56417d1ca3": {
          "model_module": "@jupyter-widgets/controls",
          "model_name": "FloatTextModel",
          "model_module_version": "1.5.0",
          "state": {
            "_dom_classes": [],
            "_model_module": "@jupyter-widgets/controls",
            "_model_module_version": "1.5.0",
            "_model_name": "FloatTextModel",
            "_view_count": null,
            "_view_module": "@jupyter-widgets/controls",
            "_view_module_version": "1.5.0",
            "_view_name": "FloatTextView",
            "continuous_update": false,
            "description": "Cena za jednostkę (zł):",
            "description_tooltip": null,
            "disabled": false,
            "layout": "IPY_MODEL_679de5d89db943fe927e7565a7375a27",
            "step": null,
            "style": "IPY_MODEL_bcc2132f9c474974945ad81a462844fd",
            "value": 12
          }
        },
        "679de5d89db943fe927e7565a7375a27": {
          "model_module": "@jupyter-widgets/base",
          "model_name": "LayoutModel",
          "model_module_version": "1.2.0",
          "state": {
            "_model_module": "@jupyter-widgets/base",
            "_model_module_version": "1.2.0",
            "_model_name": "LayoutModel",
            "_view_count": null,
            "_view_module": "@jupyter-widgets/base",
            "_view_module_version": "1.2.0",
            "_view_name": "LayoutView",
            "align_content": null,
            "align_items": null,
            "align_self": null,
            "border": null,
            "bottom": null,
            "display": null,
            "flex": null,
            "flex_flow": null,
            "grid_area": null,
            "grid_auto_columns": null,
            "grid_auto_flow": null,
            "grid_auto_rows": null,
            "grid_column": null,
            "grid_gap": null,
            "grid_row": null,
            "grid_template_areas": null,
            "grid_template_columns": null,
            "grid_template_rows": null,
            "height": null,
            "justify_content": null,
            "justify_items": null,
            "left": null,
            "margin": null,
            "max_height": null,
            "max_width": null,
            "min_height": null,
            "min_width": null,
            "object_fit": null,
            "object_position": null,
            "order": null,
            "overflow": null,
            "overflow_x": null,
            "overflow_y": null,
            "padding": null,
            "right": null,
            "top": null,
            "visibility": null,
            "width": null
          }
        },
        "bcc2132f9c474974945ad81a462844fd": {
          "model_module": "@jupyter-widgets/controls",
          "model_name": "DescriptionStyleModel",
          "model_module_version": "1.5.0",
          "state": {
            "_model_module": "@jupyter-widgets/controls",
            "_model_module_version": "1.5.0",
            "_model_name": "DescriptionStyleModel",
            "_view_count": null,
            "_view_module": "@jupyter-widgets/base",
            "_view_module_version": "1.2.0",
            "_view_name": "StyleView",
            "description_width": ""
          }
        },
        "f2e47052acc34c408faff1340bafc70a": {
          "model_module": "@jupyter-widgets/controls",
          "model_name": "FloatTextModel",
          "model_module_version": "1.5.0",
          "state": {
            "_dom_classes": [],
            "_model_module": "@jupyter-widgets/controls",
            "_model_module_version": "1.5.0",
            "_model_name": "FloatTextModel",
            "_view_count": null,
            "_view_module": "@jupyter-widgets/controls",
            "_view_module_version": "1.5.0",
            "_view_name": "FloatTextView",
            "continuous_update": false,
            "description": "Marża na produkt (%):",
            "description_tooltip": null,
            "disabled": false,
            "layout": "IPY_MODEL_5fb6efcf349245d7b6ba5a4996cc8873",
            "step": null,
            "style": "IPY_MODEL_77ee975c53d84090a745ac61450f2fe0",
            "value": 25
          }
        },
        "5fb6efcf349245d7b6ba5a4996cc8873": {
          "model_module": "@jupyter-widgets/base",
          "model_name": "LayoutModel",
          "model_module_version": "1.2.0",
          "state": {
            "_model_module": "@jupyter-widgets/base",
            "_model_module_version": "1.2.0",
            "_model_name": "LayoutModel",
            "_view_count": null,
            "_view_module": "@jupyter-widgets/base",
            "_view_module_version": "1.2.0",
            "_view_name": "LayoutView",
            "align_content": null,
            "align_items": null,
            "align_self": null,
            "border": null,
            "bottom": null,
            "display": null,
            "flex": null,
            "flex_flow": null,
            "grid_area": null,
            "grid_auto_columns": null,
            "grid_auto_flow": null,
            "grid_auto_rows": null,
            "grid_column": null,
            "grid_gap": null,
            "grid_row": null,
            "grid_template_areas": null,
            "grid_template_columns": null,
            "grid_template_rows": null,
            "height": null,
            "justify_content": null,
            "justify_items": null,
            "left": null,
            "margin": null,
            "max_height": null,
            "max_width": null,
            "min_height": null,
            "min_width": null,
            "object_fit": null,
            "object_position": null,
            "order": null,
            "overflow": null,
            "overflow_x": null,
            "overflow_y": null,
            "padding": null,
            "right": null,
            "top": null,
            "visibility": null,
            "width": null
          }
        },
        "77ee975c53d84090a745ac61450f2fe0": {
          "model_module": "@jupyter-widgets/controls",
          "model_name": "DescriptionStyleModel",
          "model_module_version": "1.5.0",
          "state": {
            "_model_module": "@jupyter-widgets/controls",
            "_model_module_version": "1.5.0",
            "_model_name": "DescriptionStyleModel",
            "_view_count": null,
            "_view_module": "@jupyter-widgets/base",
            "_view_module_version": "1.2.0",
            "_view_name": "StyleView",
            "description_width": ""
          }
        },
        "76712ff3328745818428dafea07327e3": {
          "model_module": "@jupyter-widgets/controls",
          "model_name": "FloatTextModel",
          "model_module_version": "1.5.0",
          "state": {
            "_dom_classes": [],
            "_model_module": "@jupyter-widgets/controls",
            "_model_module_version": "1.5.0",
            "_model_name": "FloatTextModel",
            "_view_count": null,
            "_view_module": "@jupyter-widgets/controls",
            "_view_module_version": "1.5.0",
            "_view_name": "FloatTextView",
            "continuous_update": false,
            "description": "Rabat na produkt (%):",
            "description_tooltip": null,
            "disabled": false,
            "layout": "IPY_MODEL_84f74c3440094c4fb28985d5a2deffb3",
            "step": null,
            "style": "IPY_MODEL_36675447923747fbb040a52e9129c13c",
            "value": 10
          }
        },
        "84f74c3440094c4fb28985d5a2deffb3": {
          "model_module": "@jupyter-widgets/base",
          "model_name": "LayoutModel",
          "model_module_version": "1.2.0",
          "state": {
            "_model_module": "@jupyter-widgets/base",
            "_model_module_version": "1.2.0",
            "_model_name": "LayoutModel",
            "_view_count": null,
            "_view_module": "@jupyter-widgets/base",
            "_view_module_version": "1.2.0",
            "_view_name": "LayoutView",
            "align_content": null,
            "align_items": null,
            "align_self": null,
            "border": null,
            "bottom": null,
            "display": null,
            "flex": null,
            "flex_flow": null,
            "grid_area": null,
            "grid_auto_columns": null,
            "grid_auto_flow": null,
            "grid_auto_rows": null,
            "grid_column": null,
            "grid_gap": null,
            "grid_row": null,
            "grid_template_areas": null,
            "grid_template_columns": null,
            "grid_template_rows": null,
            "height": null,
            "justify_content": null,
            "justify_items": null,
            "left": null,
            "margin": null,
            "max_height": null,
            "max_width": null,
            "min_height": null,
            "min_width": null,
            "object_fit": null,
            "object_position": null,
            "order": null,
            "overflow": null,
            "overflow_x": null,
            "overflow_y": null,
            "padding": null,
            "right": null,
            "top": null,
            "visibility": null,
            "width": null
          }
        },
        "36675447923747fbb040a52e9129c13c": {
          "model_module": "@jupyter-widgets/controls",
          "model_name": "DescriptionStyleModel",
          "model_module_version": "1.5.0",
          "state": {
            "_model_module": "@jupyter-widgets/controls",
            "_model_module_version": "1.5.0",
            "_model_name": "DescriptionStyleModel",
            "_view_count": null,
            "_view_module": "@jupyter-widgets/base",
            "_view_module_version": "1.2.0",
            "_view_name": "StyleView",
            "description_width": ""
          }
        },
        "8a81b77cbd384407a608ee2d7cbbb456": {
          "model_module": "@jupyter-widgets/controls",
          "model_name": "ButtonModel",
          "model_module_version": "1.5.0",
          "state": {
            "_dom_classes": [],
            "_model_module": "@jupyter-widgets/controls",
            "_model_module_version": "1.5.0",
            "_model_name": "ButtonModel",
            "_view_count": null,
            "_view_module": "@jupyter-widgets/controls",
            "_view_module_version": "1.5.0",
            "_view_name": "ButtonView",
            "button_style": "",
            "description": "Dodaj pozycję",
            "disabled": false,
            "icon": "",
            "layout": "IPY_MODEL_fb22ed2323104426880e68fa725c6fa1",
            "style": "IPY_MODEL_3c3f59c5e2e148eba7b484e473082242",
            "tooltip": ""
          }
        },
        "fb22ed2323104426880e68fa725c6fa1": {
          "model_module": "@jupyter-widgets/base",
          "model_name": "LayoutModel",
          "model_module_version": "1.2.0",
          "state": {
            "_model_module": "@jupyter-widgets/base",
            "_model_module_version": "1.2.0",
            "_model_name": "LayoutModel",
            "_view_count": null,
            "_view_module": "@jupyter-widgets/base",
            "_view_module_version": "1.2.0",
            "_view_name": "LayoutView",
            "align_content": null,
            "align_items": null,
            "align_self": null,
            "border": null,
            "bottom": null,
            "display": null,
            "flex": null,
            "flex_flow": null,
            "grid_area": null,
            "grid_auto_columns": null,
            "grid_auto_flow": null,
            "grid_auto_rows": null,
            "grid_column": null,
            "grid_gap": null,
            "grid_row": null,
            "grid_template_areas": null,
            "grid_template_columns": null,
            "grid_template_rows": null,
            "height": null,
            "justify_content": null,
            "justify_items": null,
            "left": null,
            "margin": null,
            "max_height": null,
            "max_width": null,
            "min_height": null,
            "min_width": null,
            "object_fit": null,
            "object_position": null,
            "order": null,
            "overflow": null,
            "overflow_x": null,
            "overflow_y": null,
            "padding": null,
            "right": null,
            "top": null,
            "visibility": null,
            "width": null
          }
        },
        "3c3f59c5e2e148eba7b484e473082242": {
          "model_module": "@jupyter-widgets/controls",
          "model_name": "ButtonStyleModel",
          "model_module_version": "1.5.0",
          "state": {
            "_model_module": "@jupyter-widgets/controls",
            "_model_module_version": "1.5.0",
            "_model_name": "ButtonStyleModel",
            "_view_count": null,
            "_view_module": "@jupyter-widgets/base",
            "_view_module_version": "1.2.0",
            "_view_name": "StyleView",
            "button_color": null,
            "font_weight": ""
          }
        },
        "c10afb678197486bb06134e1657df9f6": {
          "model_module": "@jupyter-widgets/controls",
          "model_name": "ButtonModel",
          "model_module_version": "1.5.0",
          "state": {
            "_dom_classes": [],
            "_model_module": "@jupyter-widgets/controls",
            "_model_module_version": "1.5.0",
            "_model_name": "ButtonModel",
            "_view_count": null,
            "_view_module": "@jupyter-widgets/controls",
            "_view_module_version": "1.5.0",
            "_view_name": "ButtonView",
            "button_style": "",
            "description": "Oblicz marżę i rabat",
            "disabled": false,
            "icon": "",
            "layout": "IPY_MODEL_4b637a741c584e5dad6833ae704276a1",
            "style": "IPY_MODEL_051eafad6f3b403f8dcefc9a63854fb4",
            "tooltip": ""
          }
        },
        "4b637a741c584e5dad6833ae704276a1": {
          "model_module": "@jupyter-widgets/base",
          "model_name": "LayoutModel",
          "model_module_version": "1.2.0",
          "state": {
            "_model_module": "@jupyter-widgets/base",
            "_model_module_version": "1.2.0",
            "_model_name": "LayoutModel",
            "_view_count": null,
            "_view_module": "@jupyter-widgets/base",
            "_view_module_version": "1.2.0",
            "_view_name": "LayoutView",
            "align_content": null,
            "align_items": null,
            "align_self": null,
            "border": null,
            "bottom": null,
            "display": null,
            "flex": null,
            "flex_flow": null,
            "grid_area": null,
            "grid_auto_columns": null,
            "grid_auto_flow": null,
            "grid_auto_rows": null,
            "grid_column": null,
            "grid_gap": null,
            "grid_row": null,
            "grid_template_areas": null,
            "grid_template_columns": null,
            "grid_template_rows": null,
            "height": null,
            "justify_content": null,
            "justify_items": null,
            "left": null,
            "margin": null,
            "max_height": null,
            "max_width": null,
            "min_height": null,
            "min_width": null,
            "object_fit": null,
            "object_position": null,
            "order": null,
            "overflow": null,
            "overflow_x": null,
            "overflow_y": null,
            "padding": null,
            "right": null,
            "top": null,
            "visibility": null,
            "width": null
          }
        },
        "051eafad6f3b403f8dcefc9a63854fb4": {
          "model_module": "@jupyter-widgets/controls",
          "model_name": "ButtonStyleModel",
          "model_module_version": "1.5.0",
          "state": {
            "_model_module": "@jupyter-widgets/controls",
            "_model_module_version": "1.5.0",
            "_model_name": "ButtonStyleModel",
            "_view_count": null,
            "_view_module": "@jupyter-widgets/base",
            "_view_module_version": "1.2.0",
            "_view_name": "StyleView",
            "button_color": null,
            "font_weight": ""
          }
        },
        "df7a417467ef4b248994974dee394296": {
          "model_module": "@jupyter-widgets/controls",
          "model_name": "IntTextModel",
          "model_module_version": "1.5.0",
          "state": {
            "_dom_classes": [],
            "_model_module": "@jupyter-widgets/controls",
            "_model_module_version": "1.5.0",
            "_model_name": "IntTextModel",
            "_view_count": null,
            "_view_module": "@jupyter-widgets/controls",
            "_view_module_version": "1.5.0",
            "_view_name": "IntTextView",
            "continuous_update": false,
            "description": "Nr wiersza do usunięcia:",
            "description_tooltip": null,
            "disabled": false,
            "layout": "IPY_MODEL_e03e6c4680ac46d1ade0a4035f3f7458",
            "step": 1,
            "style": "IPY_MODEL_1060d457580b4c6b9be3c36bbd1c5a64",
            "value": 0
          }
        },
        "e03e6c4680ac46d1ade0a4035f3f7458": {
          "model_module": "@jupyter-widgets/base",
          "model_name": "LayoutModel",
          "model_module_version": "1.2.0",
          "state": {
            "_model_module": "@jupyter-widgets/base",
            "_model_module_version": "1.2.0",
            "_model_name": "LayoutModel",
            "_view_count": null,
            "_view_module": "@jupyter-widgets/base",
            "_view_module_version": "1.2.0",
            "_view_name": "LayoutView",
            "align_content": null,
            "align_items": null,
            "align_self": null,
            "border": null,
            "bottom": null,
            "display": null,
            "flex": null,
            "flex_flow": null,
            "grid_area": null,
            "grid_auto_columns": null,
            "grid_auto_flow": null,
            "grid_auto_rows": null,
            "grid_column": null,
            "grid_gap": null,
            "grid_row": null,
            "grid_template_areas": null,
            "grid_template_columns": null,
            "grid_template_rows": null,
            "height": null,
            "justify_content": null,
            "justify_items": null,
            "left": null,
            "margin": null,
            "max_height": null,
            "max_width": null,
            "min_height": null,
            "min_width": null,
            "object_fit": null,
            "object_position": null,
            "order": null,
            "overflow": null,
            "overflow_x": null,
            "overflow_y": null,
            "padding": null,
            "right": null,
            "top": null,
            "visibility": null,
            "width": null
          }
        },
        "1060d457580b4c6b9be3c36bbd1c5a64": {
          "model_module": "@jupyter-widgets/controls",
          "model_name": "DescriptionStyleModel",
          "model_module_version": "1.5.0",
          "state": {
            "_model_module": "@jupyter-widgets/controls",
            "_model_module_version": "1.5.0",
            "_model_name": "DescriptionStyleModel",
            "_view_count": null,
            "_view_module": "@jupyter-widgets/base",
            "_view_module_version": "1.2.0",
            "_view_name": "StyleView",
            "description_width": ""
          }
        },
        "a3c21d4032554433bf4f75c0a25a93a7": {
          "model_module": "@jupyter-widgets/controls",
          "model_name": "ButtonModel",
          "model_module_version": "1.5.0",
          "state": {
            "_dom_classes": [],
            "_model_module": "@jupyter-widgets/controls",
            "_model_module_version": "1.5.0",
            "_model_name": "ButtonModel",
            "_view_count": null,
            "_view_module": "@jupyter-widgets/controls",
            "_view_module_version": "1.5.0",
            "_view_name": "ButtonView",
            "button_style": "",
            "description": "Usuń pozycję",
            "disabled": false,
            "icon": "",
            "layout": "IPY_MODEL_6651c2d9cc5c4af7bab6f98163b0ff59",
            "style": "IPY_MODEL_73e442d24d5246aabdbe1533a2dfa3c5",
            "tooltip": ""
          }
        },
        "6651c2d9cc5c4af7bab6f98163b0ff59": {
          "model_module": "@jupyter-widgets/base",
          "model_name": "LayoutModel",
          "model_module_version": "1.2.0",
          "state": {
            "_model_module": "@jupyter-widgets/base",
            "_model_module_version": "1.2.0",
            "_model_name": "LayoutModel",
            "_view_count": null,
            "_view_module": "@jupyter-widgets/base",
            "_view_module_version": "1.2.0",
            "_view_name": "LayoutView",
            "align_content": null,
            "align_items": null,
            "align_self": null,
            "border": null,
            "bottom": null,
            "display": null,
            "flex": null,
            "flex_flow": null,
            "grid_area": null,
            "grid_auto_columns": null,
            "grid_auto_flow": null,
            "grid_auto_rows": null,
            "grid_column": null,
            "grid_gap": null,
            "grid_row": null,
            "grid_template_areas": null,
            "grid_template_columns": null,
            "grid_template_rows": null,
            "height": null,
            "justify_content": null,
            "justify_items": null,
            "left": null,
            "margin": null,
            "max_height": null,
            "max_width": null,
            "min_height": null,
            "min_width": null,
            "object_fit": null,
            "object_position": null,
            "order": null,
            "overflow": null,
            "overflow_x": null,
            "overflow_y": null,
            "padding": null,
            "right": null,
            "top": null,
            "visibility": null,
            "width": null
          }
        },
        "73e442d24d5246aabdbe1533a2dfa3c5": {
          "model_module": "@jupyter-widgets/controls",
          "model_name": "ButtonStyleModel",
          "model_module_version": "1.5.0",
          "state": {
            "_model_module": "@jupyter-widgets/controls",
            "_model_module_version": "1.5.0",
            "_model_name": "ButtonStyleModel",
            "_view_count": null,
            "_view_module": "@jupyter-widgets/base",
            "_view_module_version": "1.2.0",
            "_view_name": "StyleView",
            "button_color": null,
            "font_weight": ""
          }
        },
        "c736a39d762f42bfb64b1c69b04a5563": {
          "model_module": "@jupyter-widgets/controls",
          "model_name": "ButtonModel",
          "model_module_version": "1.5.0",
          "state": {
            "_dom_classes": [],
            "_model_module": "@jupyter-widgets/controls",
            "_model_module_version": "1.5.0",
            "_model_name": "ButtonModel",
            "_view_count": null,
            "_view_module": "@jupyter-widgets/controls",
            "_view_module_version": "1.5.0",
            "_view_name": "ButtonView",
            "button_style": "",
            "description": "Eksportuj do CSV",
            "disabled": false,
            "icon": "",
            "layout": "IPY_MODEL_ab95928057e645ef9414db1bc273f6e2",
            "style": "IPY_MODEL_d7442643812d416e9e90de57033bd3a1",
            "tooltip": ""
          }
        },
        "ab95928057e645ef9414db1bc273f6e2": {
          "model_module": "@jupyter-widgets/base",
          "model_name": "LayoutModel",
          "model_module_version": "1.2.0",
          "state": {
            "_model_module": "@jupyter-widgets/base",
            "_model_module_version": "1.2.0",
            "_model_name": "LayoutModel",
            "_view_count": null,
            "_view_module": "@jupyter-widgets/base",
            "_view_module_version": "1.2.0",
            "_view_name": "LayoutView",
            "align_content": null,
            "align_items": null,
            "align_self": null,
            "border": null,
            "bottom": null,
            "display": null,
            "flex": null,
            "flex_flow": null,
            "grid_area": null,
            "grid_auto_columns": null,
            "grid_auto_flow": null,
            "grid_auto_rows": null,
            "grid_column": null,
            "grid_gap": null,
            "grid_row": null,
            "grid_template_areas": null,
            "grid_template_columns": null,
            "grid_template_rows": null,
            "height": null,
            "justify_content": null,
            "justify_items": null,
            "left": null,
            "margin": null,
            "max_height": null,
            "max_width": null,
            "min_height": null,
            "min_width": null,
            "object_fit": null,
            "object_position": null,
            "order": null,
            "overflow": null,
            "overflow_x": null,
            "overflow_y": null,
            "padding": null,
            "right": null,
            "top": null,
            "visibility": null,
            "width": null
          }
        },
        "d7442643812d416e9e90de57033bd3a1": {
          "model_module": "@jupyter-widgets/controls",
          "model_name": "ButtonStyleModel",
          "model_module_version": "1.5.0",
          "state": {
            "_model_module": "@jupyter-widgets/controls",
            "_model_module_version": "1.5.0",
            "_model_name": "ButtonStyleModel",
            "_view_count": null,
            "_view_module": "@jupyter-widgets/base",
            "_view_module_version": "1.2.0",
            "_view_name": "StyleView",
            "button_color": null,
            "font_weight": ""
          }
        },
        "a43194f4a9ef45a38a9773eafc77da0f": {
          "model_module": "@jupyter-widgets/controls",
          "model_name": "ButtonModel",
          "model_module_version": "1.5.0",
          "state": {
            "_dom_classes": [],
            "_model_module": "@jupyter-widgets/controls",
            "_model_module_version": "1.5.0",
            "_model_name": "ButtonModel",
            "_view_count": null,
            "_view_module": "@jupyter-widgets/controls",
            "_view_module_version": "1.5.0",
            "_view_name": "ButtonView",
            "button_style": "",
            "description": "Eksportuj do Excel",
            "disabled": false,
            "icon": "",
            "layout": "IPY_MODEL_e29c47004e474b75836c6b15d21154d5",
            "style": "IPY_MODEL_e7ee8515d7e24b4f8ac29ca7bece2e61",
            "tooltip": ""
          }
        },
        "e29c47004e474b75836c6b15d21154d5": {
          "model_module": "@jupyter-widgets/base",
          "model_name": "LayoutModel",
          "model_module_version": "1.2.0",
          "state": {
            "_model_module": "@jupyter-widgets/base",
            "_model_module_version": "1.2.0",
            "_model_name": "LayoutModel",
            "_view_count": null,
            "_view_module": "@jupyter-widgets/base",
            "_view_module_version": "1.2.0",
            "_view_name": "LayoutView",
            "align_content": null,
            "align_items": null,
            "align_self": null,
            "border": null,
            "bottom": null,
            "display": null,
            "flex": null,
            "flex_flow": null,
            "grid_area": null,
            "grid_auto_columns": null,
            "grid_auto_flow": null,
            "grid_auto_rows": null,
            "grid_column": null,
            "grid_gap": null,
            "grid_row": null,
            "grid_template_areas": null,
            "grid_template_columns": null,
            "grid_template_rows": null,
            "height": null,
            "justify_content": null,
            "justify_items": null,
            "left": null,
            "margin": null,
            "max_height": null,
            "max_width": null,
            "min_height": null,
            "min_width": null,
            "object_fit": null,
            "object_position": null,
            "order": null,
            "overflow": null,
            "overflow_x": null,
            "overflow_y": null,
            "padding": null,
            "right": null,
            "top": null,
            "visibility": null,
            "width": null
          }
        },
        "e7ee8515d7e24b4f8ac29ca7bece2e61": {
          "model_module": "@jupyter-widgets/controls",
          "model_name": "ButtonStyleModel",
          "model_module_version": "1.5.0",
          "state": {
            "_model_module": "@jupyter-widgets/controls",
            "_model_module_version": "1.5.0",
            "_model_name": "ButtonStyleModel",
            "_view_count": null,
            "_view_module": "@jupyter-widgets/base",
            "_view_module_version": "1.2.0",
            "_view_name": "StyleView",
            "button_color": null,
            "font_weight": ""
          }
        },
        "fc366666b26f4c3c85346651d350f732": {
          "model_module": "@jupyter-widgets/output",
          "model_name": "OutputModel",
          "model_module_version": "1.0.0",
          "state": {
            "_dom_classes": [],
            "_model_module": "@jupyter-widgets/output",
            "_model_module_version": "1.0.0",
            "_model_name": "OutputModel",
            "_view_count": null,
            "_view_module": "@jupyter-widgets/output",
            "_view_module_version": "1.0.0",
            "_view_name": "OutputView",
            "layout": "IPY_MODEL_08b79baa5ed04ec0b7bfb1e1a5b5c1aa",
            "msg_id": "",
            "outputs": [
              {
                "output_type": "display_data",
                "data": {
                  "text/plain": "  Nazwa Jednostka miary   Ilość  Cena jednostkowa (zł)  Koszt (zł)  Marża (%)  \\\n0     A              kg   100.0                   10.0      1000.0        0.0   \n1     A              kg   100.0                   10.0      1000.0       12.0   \n2     B              kg  1111.0                   12.0     13332.0        0.0   \n3     B              kg  1111.0                   12.0     13332.0       25.0   \n\n   Rabat (%)  Koszt z marżą (zł)  Koszt po rabacie (zł)  \n0        0.0              1000.0                 1000.0  \n1       41.0              1120.0                  660.8  \n2        0.0             13332.0                13332.0  \n3       10.0             16665.0                14998.5  ",
                  "text/html": "\n  <div id=\"df-9e7dd4f7-cea8-4473-ab19-f0c9eb48afd7\" class=\"colab-df-container\">\n    <div>\n<style scoped>\n    .dataframe tbody tr th:only-of-type {\n        vertical-align: middle;\n    }\n\n    .dataframe tbody tr th {\n        vertical-align: top;\n    }\n\n    .dataframe thead th {\n        text-align: right;\n    }\n</style>\n<table border=\"1\" class=\"dataframe\">\n  <thead>\n    <tr style=\"text-align: right;\">\n      <th></th>\n      <th>Nazwa</th>\n      <th>Jednostka miary</th>\n      <th>Ilość</th>\n      <th>Cena jednostkowa (zł)</th>\n      <th>Koszt (zł)</th>\n      <th>Marża (%)</th>\n      <th>Rabat (%)</th>\n      <th>Koszt z marżą (zł)</th>\n      <th>Koszt po rabacie (zł)</th>\n    </tr>\n  </thead>\n  <tbody>\n    <tr>\n      <th>0</th>\n      <td>A</td>\n      <td>kg</td>\n      <td>100.0</td>\n      <td>10.0</td>\n      <td>1000.0</td>\n      <td>0.0</td>\n      <td>0.0</td>\n      <td>1000.0</td>\n      <td>1000.0</td>\n    </tr>\n    <tr>\n      <th>1</th>\n      <td>A</td>\n      <td>kg</td>\n      <td>100.0</td>\n      <td>10.0</td>\n      <td>1000.0</td>\n      <td>12.0</td>\n      <td>41.0</td>\n      <td>1120.0</td>\n      <td>660.8</td>\n    </tr>\n    <tr>\n      <th>2</th>\n      <td>B</td>\n      <td>kg</td>\n      <td>1111.0</td>\n      <td>12.0</td>\n      <td>13332.0</td>\n      <td>0.0</td>\n      <td>0.0</td>\n      <td>13332.0</td>\n      <td>13332.0</td>\n    </tr>\n    <tr>\n      <th>3</th>\n      <td>B</td>\n      <td>kg</td>\n      <td>1111.0</td>\n      <td>12.0</td>\n      <td>13332.0</td>\n      <td>25.0</td>\n      <td>10.0</td>\n      <td>16665.0</td>\n      <td>14998.5</td>\n    </tr>\n  </tbody>\n</table>\n</div>\n    <div class=\"colab-df-buttons\">\n\n  <div class=\"colab-df-container\">\n    <button class=\"colab-df-convert\" onclick=\"convertToInteractive('df-9e7dd4f7-cea8-4473-ab19-f0c9eb48afd7')\"\n            title=\"Convert this dataframe to an interactive table.\"\n            style=\"display:none;\">\n\n  <svg xmlns=\"http://www.w3.org/2000/svg\" height=\"24px\" viewBox=\"0 -960 960 960\">\n    <path d=\"M120-120v-720h720v720H120Zm60-500h600v-160H180v160Zm220 220h160v-160H400v160Zm0 220h160v-160H400v160ZM180-400h160v-160H180v160Zm440 0h160v-160H620v160ZM180-180h160v-160H180v160Zm440 0h160v-160H620v160Z\"/>\n  </svg>\n    </button>\n\n  <style>\n    .colab-df-container {\n      display:flex;\n      gap: 12px;\n    }\n\n    .colab-df-convert {\n      background-color: #E8F0FE;\n      border: none;\n      border-radius: 50%;\n      cursor: pointer;\n      display: none;\n      fill: #1967D2;\n      height: 32px;\n      padding: 0 0 0 0;\n      width: 32px;\n    }\n\n    .colab-df-convert:hover {\n      background-color: #E2EBFA;\n      box-shadow: 0px 1px 2px rgba(60, 64, 67, 0.3), 0px 1px 3px 1px rgba(60, 64, 67, 0.15);\n      fill: #174EA6;\n    }\n\n    .colab-df-buttons div {\n      margin-bottom: 4px;\n    }\n\n    [theme=dark] .colab-df-convert {\n      background-color: #3B4455;\n      fill: #D2E3FC;\n    }\n\n    [theme=dark] .colab-df-convert:hover {\n      background-color: #434B5C;\n      box-shadow: 0px 1px 3px 1px rgba(0, 0, 0, 0.15);\n      filter: drop-shadow(0px 1px 2px rgba(0, 0, 0, 0.3));\n      fill: #FFFFFF;\n    }\n  </style>\n\n    <script>\n      const buttonEl =\n        document.querySelector('#df-9e7dd4f7-cea8-4473-ab19-f0c9eb48afd7 button.colab-df-convert');\n      buttonEl.style.display =\n        google.colab.kernel.accessAllowed ? 'block' : 'none';\n\n      async function convertToInteractive(key) {\n        const element = document.querySelector('#df-9e7dd4f7-cea8-4473-ab19-f0c9eb48afd7');\n        const dataTable =\n          await google.colab.kernel.invokeFunction('convertToInteractive',\n                                                    [key], {});\n        if (!dataTable) return;\n\n        const docLinkHtml = 'Like what you see? Visit the ' +\n          '<a target=\"_blank\" href=https://colab.research.google.com/notebooks/data_table.ipynb>data table notebook</a>'\n          + ' to learn more about interactive tables.';\n        element.innerHTML = '';\n        dataTable['output_type'] = 'display_data';\n        await google.colab.output.renderOutput(dataTable, element);\n        const docLink = document.createElement('div');\n        docLink.innerHTML = docLinkHtml;\n        element.appendChild(docLink);\n      }\n    </script>\n  </div>\n\n\n<div id=\"df-43cc15e9-fa04-4abd-a91e-c27fc766ccda\">\n  <button class=\"colab-df-quickchart\" onclick=\"quickchart('df-43cc15e9-fa04-4abd-a91e-c27fc766ccda')\"\n            title=\"Suggest charts\"\n            style=\"display:none;\">\n\n<svg xmlns=\"http://www.w3.org/2000/svg\" height=\"24px\"viewBox=\"0 0 24 24\"\n     width=\"24px\">\n    <g>\n        <path d=\"M19 3H5c-1.1 0-2 .9-2 2v14c0 1.1.9 2 2 2h14c1.1 0 2-.9 2-2V5c0-1.1-.9-2-2-2zM9 17H7v-7h2v7zm4 0h-2V7h2v10zm4 0h-2v-4h2v4z\"/>\n    </g>\n</svg>\n  </button>\n\n<style>\n  .colab-df-quickchart {\n      --bg-color: #E8F0FE;\n      --fill-color: #1967D2;\n      --hover-bg-color: #E2EBFA;\n      --hover-fill-color: #174EA6;\n      --disabled-fill-color: #AAA;\n      --disabled-bg-color: #DDD;\n  }\n\n  [theme=dark] .colab-df-quickchart {\n      --bg-color: #3B4455;\n      --fill-color: #D2E3FC;\n      --hover-bg-color: #434B5C;\n      --hover-fill-color: #FFFFFF;\n      --disabled-bg-color: #3B4455;\n      --disabled-fill-color: #666;\n  }\n\n  .colab-df-quickchart {\n    background-color: var(--bg-color);\n    border: none;\n    border-radius: 50%;\n    cursor: pointer;\n    display: none;\n    fill: var(--fill-color);\n    height: 32px;\n    padding: 0;\n    width: 32px;\n  }\n\n  .colab-df-quickchart:hover {\n    background-color: var(--hover-bg-color);\n    box-shadow: 0 1px 2px rgba(60, 64, 67, 0.3), 0 1px 3px 1px rgba(60, 64, 67, 0.15);\n    fill: var(--button-hover-fill-color);\n  }\n\n  .colab-df-quickchart-complete:disabled,\n  .colab-df-quickchart-complete:disabled:hover {\n    background-color: var(--disabled-bg-color);\n    fill: var(--disabled-fill-color);\n    box-shadow: none;\n  }\n\n  .colab-df-spinner {\n    border: 2px solid var(--fill-color);\n    border-color: transparent;\n    border-bottom-color: var(--fill-color);\n    animation:\n      spin 1s steps(1) infinite;\n  }\n\n  @keyframes spin {\n    0% {\n      border-color: transparent;\n      border-bottom-color: var(--fill-color);\n      border-left-color: var(--fill-color);\n    }\n    20% {\n      border-color: transparent;\n      border-left-color: var(--fill-color);\n      border-top-color: var(--fill-color);\n    }\n    30% {\n      border-color: transparent;\n      border-left-color: var(--fill-color);\n      border-top-color: var(--fill-color);\n      border-right-color: var(--fill-color);\n    }\n    40% {\n      border-color: transparent;\n      border-right-color: var(--fill-color);\n      border-top-color: var(--fill-color);\n    }\n    60% {\n      border-color: transparent;\n      border-right-color: var(--fill-color);\n    }\n    80% {\n      border-color: transparent;\n      border-right-color: var(--fill-color);\n      border-bottom-color: var(--fill-color);\n    }\n    90% {\n      border-color: transparent;\n      border-bottom-color: var(--fill-color);\n    }\n  }\n</style>\n\n  <script>\n    async function quickchart(key) {\n      const quickchartButtonEl =\n        document.querySelector('#' + key + ' button');\n      quickchartButtonEl.disabled = true;  // To prevent multiple clicks.\n      quickchartButtonEl.classList.add('colab-df-spinner');\n      try {\n        const charts = await google.colab.kernel.invokeFunction(\n            'suggestCharts', [key], {});\n      } catch (error) {\n        console.error('Error during call to suggestCharts:', error);\n      }\n      quickchartButtonEl.classList.remove('colab-df-spinner');\n      quickchartButtonEl.classList.add('colab-df-quickchart-complete');\n    }\n    (() => {\n      let quickchartButtonEl =\n        document.querySelector('#df-43cc15e9-fa04-4abd-a91e-c27fc766ccda button');\n      quickchartButtonEl.style.display =\n        google.colab.kernel.accessAllowed ? 'block' : 'none';\n    })();\n  </script>\n</div>\n\n  <div id=\"id_f736283d-460d-44fd-8728-bff4c5dc0ebb\">\n    <style>\n      .colab-df-generate {\n        background-color: #E8F0FE;\n        border: none;\n        border-radius: 50%;\n        cursor: pointer;\n        display: none;\n        fill: #1967D2;\n        height: 32px;\n        padding: 0 0 0 0;\n        width: 32px;\n      }\n\n      .colab-df-generate:hover {\n        background-color: #E2EBFA;\n        box-shadow: 0px 1px 2px rgba(60, 64, 67, 0.3), 0px 1px 3px 1px rgba(60, 64, 67, 0.15);\n        fill: #174EA6;\n      }\n\n      [theme=dark] .colab-df-generate {\n        background-color: #3B4455;\n        fill: #D2E3FC;\n      }\n\n      [theme=dark] .colab-df-generate:hover {\n        background-color: #434B5C;\n        box-shadow: 0px 1px 3px 1px rgba(0, 0, 0, 0.15);\n        filter: drop-shadow(0px 1px 2px rgba(0, 0, 0, 0.3));\n        fill: #FFFFFF;\n      }\n    </style>\n    <button class=\"colab-df-generate\" onclick=\"generateWithVariable('df_wycena')\"\n            title=\"Generate code using this dataframe.\"\n            style=\"display:none;\">\n\n  <svg xmlns=\"http://www.w3.org/2000/svg\" height=\"24px\"viewBox=\"0 0 24 24\"\n       width=\"24px\">\n    <path d=\"M7,19H8.4L18.45,9,17,7.55,7,17.6ZM5,21V16.75L18.45,3.32a2,2,0,0,1,2.83,0l1.4,1.43a1.91,1.91,0,0,1,.58,1.4,1.91,1.91,0,0,1-.58,1.4L9.25,21ZM18.45,9,17,7.55Zm-12,3A5.31,5.31,0,0,0,4.9,8.1,5.31,5.31,0,0,0,1,6.5,5.31,5.31,0,0,0,4.9,4.9,5.31,5.31,0,0,0,6.5,1,5.31,5.31,0,0,0,8.1,4.9,5.31,5.31,0,0,0,12,6.5,5.46,5.46,0,0,0,6.5,12Z\"/>\n  </svg>\n    </button>\n    <script>\n      (() => {\n      const buttonEl =\n        document.querySelector('#id_f736283d-460d-44fd-8728-bff4c5dc0ebb button.colab-df-generate');\n      buttonEl.style.display =\n        google.colab.kernel.accessAllowed ? 'block' : 'none';\n\n      buttonEl.onclick = () => {\n        google.colab.notebook.generateWithVariable('df_wycena');\n      }\n      })();\n    </script>\n  </div>\n\n    </div>\n  </div>\n",
                  "application/vnd.google.colaboratory.intrinsic+json": {
                    "type": "dataframe",
                    "variable_name": "df_wycena",
                    "summary": "{\n  \"name\": \"df_wycena\",\n  \"rows\": 4,\n  \"fields\": [\n    {\n      \"column\": \"Nazwa\",\n      \"properties\": {\n        \"dtype\": \"string\",\n        \"num_unique_values\": 2,\n        \"samples\": [\n          \"B\",\n          \"A\"\n        ],\n        \"semantic_type\": \"\",\n        \"description\": \"\"\n      }\n    },\n    {\n      \"column\": \"Jednostka miary\",\n      \"properties\": {\n        \"dtype\": \"category\",\n        \"num_unique_values\": 1,\n        \"samples\": [\n          \"kg\"\n        ],\n        \"semantic_type\": \"\",\n        \"description\": \"\"\n      }\n    },\n    {\n      \"column\": \"Ilo\\u015b\\u0107\",\n      \"properties\": {\n        \"dtype\": \"number\",\n        \"std\": 583.7011221507116,\n        \"min\": 100.0,\n        \"max\": 1111.0,\n        \"num_unique_values\": 2,\n        \"samples\": [\n          1111.0\n        ],\n        \"semantic_type\": \"\",\n        \"description\": \"\"\n      }\n    },\n    {\n      \"column\": \"Cena jednostkowa (z\\u0142)\",\n      \"properties\": {\n        \"dtype\": \"number\",\n        \"std\": 1.1547005383792515,\n        \"min\": 10.0,\n        \"max\": 12.0,\n        \"num_unique_values\": 2,\n        \"samples\": [\n          12.0\n        ],\n        \"semantic_type\": \"\",\n        \"description\": \"\"\n      }\n    },\n    {\n      \"column\": \"Koszt (z\\u0142)\",\n      \"properties\": {\n        \"dtype\": \"number\",\n        \"std\": 7119.883519646465,\n        \"min\": 1000.0,\n        \"max\": 13332.0,\n        \"num_unique_values\": 2,\n        \"samples\": [\n          13332.0\n        ],\n        \"semantic_type\": \"\",\n        \"description\": \"\"\n      }\n    },\n    {\n      \"column\": \"Mar\\u017ca (%)\",\n      \"properties\": {\n        \"dtype\": \"number\",\n        \"std\": 11.926860441876563,\n        \"min\": 0.0,\n        \"max\": 25.0,\n        \"num_unique_values\": 3,\n        \"samples\": [\n          0.0\n        ],\n        \"semantic_type\": \"\",\n        \"description\": \"\"\n      }\n    },\n    {\n      \"column\": \"Rabat (%)\",\n      \"properties\": {\n        \"dtype\": \"number\",\n        \"std\": 19.414341777836988,\n        \"min\": 0.0,\n        \"max\": 41.0,\n        \"num_unique_values\": 3,\n        \"samples\": [\n          0.0\n        ],\n        \"semantic_type\": \"\",\n        \"description\": \"\"\n      }\n    },\n    {\n      \"column\": \"Koszt z mar\\u017c\\u0105 (z\\u0142)\",\n      \"properties\": {\n        \"dtype\": \"number\",\n        \"std\": 8161.769145432461,\n        \"min\": 1000.0,\n        \"max\": 16665.0,\n        \"num_unique_values\": 4,\n        \"samples\": [\n          1120.0\n        ],\n        \"semantic_type\": \"\",\n        \"description\": \"\"\n      }\n    },\n    {\n      \"column\": \"Koszt po rabacie (z\\u0142)\",\n      \"properties\": {\n        \"dtype\": \"number\",\n        \"std\": 7730.122119938769,\n        \"min\": 660.8000000000001,\n        \"max\": 14998.5,\n        \"num_unique_values\": 4,\n        \"samples\": [\n          660.8000000000001\n        ],\n        \"semantic_type\": \"\",\n        \"description\": \"\"\n      }\n    }\n  ]\n}"
                  }
                },
                "metadata": {}
              }
            ]
          }
        },
        "08b79baa5ed04ec0b7bfb1e1a5b5c1aa": {
          "model_module": "@jupyter-widgets/base",
          "model_name": "LayoutModel",
          "model_module_version": "1.2.0",
          "state": {
            "_model_module": "@jupyter-widgets/base",
            "_model_module_version": "1.2.0",
            "_model_name": "LayoutModel",
            "_view_count": null,
            "_view_module": "@jupyter-widgets/base",
            "_view_module_version": "1.2.0",
            "_view_name": "LayoutView",
            "align_content": null,
            "align_items": null,
            "align_self": null,
            "border": null,
            "bottom": null,
            "display": null,
            "flex": null,
            "flex_flow": null,
            "grid_area": null,
            "grid_auto_columns": null,
            "grid_auto_flow": null,
            "grid_auto_rows": null,
            "grid_column": null,
            "grid_gap": null,
            "grid_row": null,
            "grid_template_areas": null,
            "grid_template_columns": null,
            "grid_template_rows": null,
            "height": null,
            "justify_content": null,
            "justify_items": null,
            "left": null,
            "margin": null,
            "max_height": null,
            "max_width": null,
            "min_height": null,
            "min_width": null,
            "object_fit": null,
            "object_position": null,
            "order": null,
            "overflow": null,
            "overflow_x": null,
            "overflow_y": null,
            "padding": null,
            "right": null,
            "top": null,
            "visibility": null,
            "width": null
          }
        }
      }
    }
  },
  "cells": [
    {
      "cell_type": "markdown",
      "metadata": {
        "id": "view-in-github",
        "colab_type": "text"
      },
      "source": [
        "<a href=\"https://colab.research.google.com/github/Matasnet/Interaktywny-notatnik/blob/main/Projekt_interaktywna_wycena.ipynb\" target=\"_parent\"><img src=\"https://colab.research.google.com/assets/colab-badge.svg\" alt=\"Open In Colab\"/></a>"
      ]
    },
    {
      "cell_type": "markdown",
      "source": [
        "#Instalacja bibliotek lub ich aktualizacja  \n"
      ],
      "metadata": {
        "id": "AqhPRrvyL_g0"
      }
    },
    {
      "cell_type": "code",
      "execution_count": 25,
      "metadata": {
        "collapsed": true,
        "id": "4___zetmYpqr"
      },
      "outputs": [],
      "source": [
        "#!pip install pandas matplotlib seaborn ipywidgets\n"
      ]
    },
    {
      "cell_type": "markdown",
      "source": [
        "#Import potrzebnych bibliotek"
      ],
      "metadata": {
        "id": "Cnk2D13CL9Tx"
      }
    },
    {
      "cell_type": "code",
      "source": [
        "import pandas as pd\n",
        "import ipywidgets as widgets\n",
        "from IPython.display import display\n",
        "from google.colab import files  # Jeśli używasz Google Colab"
      ],
      "metadata": {
        "id": "A5pyO9uKL8uE"
      },
      "execution_count": 26,
      "outputs": []
    },
    {
      "cell_type": "markdown",
      "source": [
        "## Inicjalizacja pustych tabeli"
      ],
      "metadata": {
        "id": "8G_x1xDRMHCZ"
      }
    },
    {
      "cell_type": "code",
      "source": [
        "wycena_data = {\n",
        "    'Nazwa': [],\n",
        "    'Jednostka miary': [],\n",
        "    'Ilość': [],\n",
        "    'Cena jednostkowa (zł)': [],\n",
        "    'Koszt (zł)': [],\n",
        "    'Marża (%)': [],\n",
        "    'Rabat (%)': []\n",
        "}"
      ],
      "metadata": {
        "id": "JphZir9ZMGZC"
      },
      "execution_count": 27,
      "outputs": []
    },
    {
      "cell_type": "markdown",
      "source": [
        "## Tworzenie DataFrame"
      ],
      "metadata": {
        "id": "rjKz9oIiMOIR"
      }
    },
    {
      "cell_type": "code",
      "source": [
        "df_wycena = pd.DataFrame(wycena_data)"
      ],
      "metadata": {
        "id": "Zvq92dDkMPwZ"
      },
      "execution_count": 28,
      "outputs": []
    },
    {
      "cell_type": "markdown",
      "source": [
        "## Widgety do wprowadzania danych\n"
      ],
      "metadata": {
        "id": "139tMfMyMnTR"
      }
    },
    {
      "cell_type": "code",
      "source": [
        "# Widgety do wprowadzania danych\n",
        "nazwa_input = widgets.Text(placeholder='Nazwa materiału')\n",
        "jednostka_input = widgets.Dropdown(\n",
        "    options=['kg', 'm', 'szt', 'l', 'm²', 'm³', 'op'],  # Możesz dodać więcej jednostek\n",
        "    description='Jednostka:'\n",
        ")\n",
        "ilosc_input = widgets.IntText(value=1, description='Ilość:')\n",
        "cena_input = widgets.FloatText(value=0.0, description='Cena za jednostkę (zł):')\n",
        "marza_input = widgets.FloatText(value=20.0, description='Marża na produkt (%):')  # Domyślna marża\n",
        "rabat_input = widgets.FloatText(value=0.0, description='Rabat na produkt (%):')  # Rabat\n",
        "usun_input = widgets.IntText(value=0, description='Nr wiersza do usunięcia:')  # Numer wiersza do usunięcia\n",
        "\n",
        "# Output widget do wyświetlania tabeli\n",
        "output = widgets.Output()\n"
      ],
      "metadata": {
        "id": "Vj__jOEpMpfI"
      },
      "execution_count": 29,
      "outputs": []
    },
    {
      "cell_type": "markdown",
      "source": [
        "##Funkcje interaktywnej wyceny"
      ],
      "metadata": {
        "id": "85FF9E2kMx-o"
      }
    },
    {
      "cell_type": "code",
      "source": [
        "# Funkcja do odświeżania tabeli w jednym miejscu\n",
        "def wyswietl_tabele():\n",
        "    global df_wycena\n",
        "    with output:\n",
        "        output.clear_output()  # Czyszczenie poprzedniego wyniku\n",
        "        display(df_wycena)\n",
        "\n",
        "# Funkcja do dodawania nowych wierszy do tabeli\n",
        "def dodaj_pozycje(b):\n",
        "    global df_wycena\n",
        "    nazwa = nazwa_input.value\n",
        "    jednostka = jednostka_input.value\n",
        "    ilosc = ilosc_input.value\n",
        "    cena_jednostkowa = cena_input.value\n",
        "    koszt = ilosc * cena_jednostkowa\n",
        "    marza = marza_input.value  # Marża dla tego produktu\n",
        "    rabat = rabat_input.value  # Rabat dla tego produktu\n",
        "\n",
        "    # Nowa pozycja jako DataFrame\n",
        "    nowa_pozycja = pd.DataFrame({\n",
        "        'Nazwa': [nazwa],\n",
        "        'Jednostka miary': [jednostka],\n",
        "        'Ilość': [ilosc],\n",
        "        'Cena jednostkowa (zł)': [cena_jednostkowa],\n",
        "        'Koszt (zł)': [koszt],\n",
        "        'Marża (%)': [marza],\n",
        "        'Rabat (%)': [rabat]\n",
        "    })\n",
        "\n",
        "    # Dodanie nowej pozycji do istniejącej tabeli przy użyciu concat\n",
        "    df_wycena = pd.concat([df_wycena, nowa_pozycja], ignore_index=True)\n",
        "\n",
        "    # Odświeżenie tabeli\n",
        "    wyswietl_tabele()\n",
        "\n",
        "# Funkcja do usuwania wiersza na podstawie indeksu\n",
        "def usun_pozycje(b):\n",
        "    global df_wycena\n",
        "    nr_wiersza = usun_input.value\n",
        "\n",
        "    # Sprawdzamy, czy numer wiersza jest prawidłowy\n",
        "    if 0 <= nr_wiersza < len(df_wycena):\n",
        "        df_wycena = df_wycena.drop(index=nr_wiersza).reset_index(drop=True)\n",
        "        # Odświeżenie tabeli\n",
        "        wyswietl_tabele()\n",
        "    else:\n",
        "        print(f\"Wiersz o numerze {nr_wiersza} nie istnieje.\")\n",
        "\n",
        "# Funkcja do obliczenia kosztu z marżą i rabatem dla każdego produktu\n",
        "def oblicz_marze_i_rabat(b):\n",
        "    global df_wycena\n",
        "\n",
        "    # Przeliczenie marży i rabatu dla każdego wiersza\n",
        "    df_wycena['Koszt z marżą (zł)'] = df_wycena['Koszt (zł)'] * (1 + df_wycena['Marża (%)'] / 100)\n",
        "    df_wycena['Koszt po rabacie (zł)'] = df_wycena['Koszt z marżą (zł)'] * (1 - df_wycena['Rabat (%)'] / 100)\n",
        "\n",
        "    # Odświeżenie tabeli\n",
        "    wyswietl_tabele()\n",
        "\n",
        "# Funkcja do eksportu do CSV\n",
        "def eksportuj_csv(b):\n",
        "    global df_wycena\n",
        "    df_wycena.to_csv('wycena.csv', index=False)\n",
        "    files.download('wycena.csv')\n",
        "\n",
        "# Funkcja do eksportu do Excel\n",
        "def eksportuj_excel(b):\n",
        "    global df_wycena\n",
        "    df_wycena.to_excel('wycena.xlsx', index=False)\n",
        "    files.download('wycena.xlsx')"
      ],
      "metadata": {
        "id": "xyyCNrhTclJm"
      },
      "execution_count": 30,
      "outputs": []
    },
    {
      "cell_type": "markdown",
      "source": [
        "##Dodanie przycisków"
      ],
      "metadata": {
        "id": "qk4ki5CUMva4"
      }
    },
    {
      "cell_type": "code",
      "source": [
        "# Przycisk dodawania pozycji\n",
        "dodaj_button = widgets.Button(description=\"Dodaj pozycję\")\n",
        "dodaj_button.on_click(dodaj_pozycje)\n",
        "\n",
        "# Przycisk do naliczenia marży i rabatu\n",
        "marza_rabat_button = widgets.Button(description=\"Oblicz marżę i rabat\")\n",
        "marza_rabat_button.on_click(oblicz_marze_i_rabat)\n",
        "\n",
        "# Przycisk do usunięcia pozycji\n",
        "usun_button = widgets.Button(description=\"Usuń pozycję\")\n",
        "usun_button.on_click(usun_pozycje)\n",
        "\n",
        "# Przycisk do eksportu do CSV\n",
        "eksportuj_csv_button = widgets.Button(description=\"Eksportuj do CSV\")\n",
        "eksportuj_csv_button.on_click(eksportuj_csv)\n",
        "\n",
        "# Przycisk do eksportu do Excel\n",
        "eksportuj_excel_button = widgets.Button(description=\"Eksportuj do Excel\")\n",
        "eksportuj_excel_button.on_click(eksportuj_excel)\n",
        "\n",
        "# Wyświetlenie widgetów i przycisków\n",
        "display(nazwa_input, jednostka_input, ilosc_input, cena_input, marza_input, rabat_input, dodaj_button)\n",
        "display(marza_rabat_button)\n",
        "display(usun_input, usun_button)\n",
        "display(eksportuj_csv_button, eksportuj_excel_button)\n",
        "\n",
        "# Wyświetlenie tabeli (pustej na początku)\n",
        "display(output)"
      ],
      "metadata": {
        "colab": {
          "base_uri": "https://localhost:8080/",
          "height": 548,
          "referenced_widgets": [
            "2e207a1ddd244428b27a0d8e39621aaf",
            "35139c93d3754fd8ad1f086e14bcf385",
            "39eb2b33dd1f403fadde903387d9a9ce",
            "a8f88e377351421781d690c529ff67d4",
            "eaee06fb360d4bba99a09234f7b7def6",
            "6bdf3d3a1af9465cb6fdf012018547ce",
            "a4b604d5619d40e1bab583eb8cc87a70",
            "10e478e9987f4c4b8f0d23d0af832cee",
            "4f2137e9aae44a86b134c27dad8ae883",
            "707fe7ae2b51447aa86eee56417d1ca3",
            "679de5d89db943fe927e7565a7375a27",
            "bcc2132f9c474974945ad81a462844fd",
            "f2e47052acc34c408faff1340bafc70a",
            "5fb6efcf349245d7b6ba5a4996cc8873",
            "77ee975c53d84090a745ac61450f2fe0",
            "76712ff3328745818428dafea07327e3",
            "84f74c3440094c4fb28985d5a2deffb3",
            "36675447923747fbb040a52e9129c13c",
            "8a81b77cbd384407a608ee2d7cbbb456",
            "fb22ed2323104426880e68fa725c6fa1",
            "3c3f59c5e2e148eba7b484e473082242",
            "c10afb678197486bb06134e1657df9f6",
            "4b637a741c584e5dad6833ae704276a1",
            "051eafad6f3b403f8dcefc9a63854fb4",
            "df7a417467ef4b248994974dee394296",
            "e03e6c4680ac46d1ade0a4035f3f7458",
            "1060d457580b4c6b9be3c36bbd1c5a64",
            "a3c21d4032554433bf4f75c0a25a93a7",
            "6651c2d9cc5c4af7bab6f98163b0ff59",
            "73e442d24d5246aabdbe1533a2dfa3c5",
            "c736a39d762f42bfb64b1c69b04a5563",
            "ab95928057e645ef9414db1bc273f6e2",
            "d7442643812d416e9e90de57033bd3a1",
            "a43194f4a9ef45a38a9773eafc77da0f",
            "e29c47004e474b75836c6b15d21154d5",
            "e7ee8515d7e24b4f8ac29ca7bece2e61",
            "fc366666b26f4c3c85346651d350f732",
            "08b79baa5ed04ec0b7bfb1e1a5b5c1aa"
          ]
        },
        "id": "E1en5-7_Mu-4",
        "outputId": "a7fad4d0-221b-4fd6-f96c-b593324729e9"
      },
      "execution_count": 31,
      "outputs": [
        {
          "output_type": "display_data",
          "data": {
            "text/plain": [
              "Text(value='', placeholder='Nazwa materiału')"
            ],
            "application/vnd.jupyter.widget-view+json": {
              "version_major": 2,
              "version_minor": 0,
              "model_id": "2e207a1ddd244428b27a0d8e39621aaf"
            }
          },
          "metadata": {}
        },
        {
          "output_type": "display_data",
          "data": {
            "text/plain": [
              "Dropdown(description='Jednostka:', options=('kg', 'm', 'szt', 'l', 'm²', 'm³', 'op'), value='kg')"
            ],
            "application/vnd.jupyter.widget-view+json": {
              "version_major": 2,
              "version_minor": 0,
              "model_id": "a8f88e377351421781d690c529ff67d4"
            }
          },
          "metadata": {}
        },
        {
          "output_type": "display_data",
          "data": {
            "text/plain": [
              "IntText(value=1, description='Ilość:')"
            ],
            "application/vnd.jupyter.widget-view+json": {
              "version_major": 2,
              "version_minor": 0,
              "model_id": "a4b604d5619d40e1bab583eb8cc87a70"
            }
          },
          "metadata": {}
        },
        {
          "output_type": "display_data",
          "data": {
            "text/plain": [
              "FloatText(value=0.0, description='Cena za jednostkę (zł):')"
            ],
            "application/vnd.jupyter.widget-view+json": {
              "version_major": 2,
              "version_minor": 0,
              "model_id": "707fe7ae2b51447aa86eee56417d1ca3"
            }
          },
          "metadata": {}
        },
        {
          "output_type": "display_data",
          "data": {
            "text/plain": [
              "FloatText(value=20.0, description='Marża na produkt (%):')"
            ],
            "application/vnd.jupyter.widget-view+json": {
              "version_major": 2,
              "version_minor": 0,
              "model_id": "f2e47052acc34c408faff1340bafc70a"
            }
          },
          "metadata": {}
        },
        {
          "output_type": "display_data",
          "data": {
            "text/plain": [
              "FloatText(value=0.0, description='Rabat na produkt (%):')"
            ],
            "application/vnd.jupyter.widget-view+json": {
              "version_major": 2,
              "version_minor": 0,
              "model_id": "76712ff3328745818428dafea07327e3"
            }
          },
          "metadata": {}
        },
        {
          "output_type": "display_data",
          "data": {
            "text/plain": [
              "Button(description='Dodaj pozycję', style=ButtonStyle())"
            ],
            "application/vnd.jupyter.widget-view+json": {
              "version_major": 2,
              "version_minor": 0,
              "model_id": "8a81b77cbd384407a608ee2d7cbbb456"
            }
          },
          "metadata": {}
        },
        {
          "output_type": "display_data",
          "data": {
            "text/plain": [
              "Button(description='Oblicz marżę i rabat', style=ButtonStyle())"
            ],
            "application/vnd.jupyter.widget-view+json": {
              "version_major": 2,
              "version_minor": 0,
              "model_id": "c10afb678197486bb06134e1657df9f6"
            }
          },
          "metadata": {}
        },
        {
          "output_type": "display_data",
          "data": {
            "text/plain": [
              "IntText(value=0, description='Nr wiersza do usunięcia:')"
            ],
            "application/vnd.jupyter.widget-view+json": {
              "version_major": 2,
              "version_minor": 0,
              "model_id": "df7a417467ef4b248994974dee394296"
            }
          },
          "metadata": {}
        },
        {
          "output_type": "display_data",
          "data": {
            "text/plain": [
              "Button(description='Usuń pozycję', style=ButtonStyle())"
            ],
            "application/vnd.jupyter.widget-view+json": {
              "version_major": 2,
              "version_minor": 0,
              "model_id": "a3c21d4032554433bf4f75c0a25a93a7"
            }
          },
          "metadata": {}
        },
        {
          "output_type": "display_data",
          "data": {
            "text/plain": [
              "Button(description='Eksportuj do CSV', style=ButtonStyle())"
            ],
            "application/vnd.jupyter.widget-view+json": {
              "version_major": 2,
              "version_minor": 0,
              "model_id": "c736a39d762f42bfb64b1c69b04a5563"
            }
          },
          "metadata": {}
        },
        {
          "output_type": "display_data",
          "data": {
            "text/plain": [
              "Button(description='Eksportuj do Excel', style=ButtonStyle())"
            ],
            "application/vnd.jupyter.widget-view+json": {
              "version_major": 2,
              "version_minor": 0,
              "model_id": "a43194f4a9ef45a38a9773eafc77da0f"
            }
          },
          "metadata": {}
        },
        {
          "output_type": "display_data",
          "data": {
            "text/plain": [
              "Output()"
            ],
            "application/vnd.jupyter.widget-view+json": {
              "version_major": 2,
              "version_minor": 0,
              "model_id": "fc366666b26f4c3c85346651d350f732"
            }
          },
          "metadata": {}
        }
      ]
    },
    {
      "cell_type": "markdown",
      "source": [
        "W celu zrestartowania danych należy ponownie uruchomić ostatnią komórkę."
      ],
      "metadata": {
        "id": "mkVi1GcK3gFL"
      }
    }
  ]
}